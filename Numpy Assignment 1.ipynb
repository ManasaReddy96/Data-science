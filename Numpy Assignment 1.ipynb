{
 "cells": [
  {
   "cell_type": "code",
   "execution_count": 1,
   "id": "476c40f5",
   "metadata": {},
   "outputs": [],
   "source": [
    "#1) Write a program to create a 5 dimensional array with all zeros and ones\n"
   ]
  },
  {
   "cell_type": "code",
   "execution_count": 34,
   "id": "c2ecb17a",
   "metadata": {},
   "outputs": [],
   "source": [
    "import numpy as np\n",
    "a=np.zeros((5,5))"
   ]
  },
  {
   "cell_type": "code",
   "execution_count": 41,
   "id": "f5218af9",
   "metadata": {},
   "outputs": [
    {
     "data": {
      "text/plain": [
       "array([[[[[0, 0, 0, 0, 0],\n",
       "          [0, 0, 0, 0, 0],\n",
       "          [0, 0, 0, 0, 0],\n",
       "          [0, 0, 0, 0, 0],\n",
       "          [0, 0, 0, 0, 0]]]]])"
      ]
     },
     "execution_count": 41,
     "metadata": {},
     "output_type": "execute_result"
    }
   ],
   "source": [
    "np.array(a,ndmin=5,dtype=int)"
   ]
  },
  {
   "cell_type": "code",
   "execution_count": 42,
   "id": "8310812a",
   "metadata": {},
   "outputs": [],
   "source": [
    "b=np.ones((5,5))"
   ]
  },
  {
   "cell_type": "code",
   "execution_count": 43,
   "id": "777bd30a",
   "metadata": {},
   "outputs": [
    {
     "data": {
      "text/plain": [
       "array([[[[[1, 1, 1, 1, 1],\n",
       "          [1, 1, 1, 1, 1],\n",
       "          [1, 1, 1, 1, 1],\n",
       "          [1, 1, 1, 1, 1],\n",
       "          [1, 1, 1, 1, 1]]]]])"
      ]
     },
     "execution_count": 43,
     "metadata": {},
     "output_type": "execute_result"
    }
   ],
   "source": [
    "np.array(b,ndmin=5,dtype=int)"
   ]
  },
  {
   "cell_type": "code",
   "execution_count": 36,
   "id": "c6eb2955",
   "metadata": {},
   "outputs": [],
   "source": [
    "#2) Write a program to create an array of 10 zeros,10 ones, and 10 fives in row 1 2 and 3 which create \n",
    "#a new array of shape (3,10)"
   ]
  },
  {
   "cell_type": "code",
   "execution_count": 49,
   "id": "e310ad84",
   "metadata": {},
   "outputs": [],
   "source": [
    "zeros= np.zeros(10, )\n",
    "ones= np.ones(10, )\n",
    "fives= np.full(10,5)\n",
    "array=np.array((zeros,ones,fives),dtype=int)"
   ]
  },
  {
   "cell_type": "code",
   "execution_count": 50,
   "id": "f228e004",
   "metadata": {},
   "outputs": [
    {
     "data": {
      "text/plain": [
       "array([[0, 0, 0, 0, 0, 0, 0, 0, 0, 0],\n",
       "       [1, 1, 1, 1, 1, 1, 1, 1, 1, 1],\n",
       "       [5, 5, 5, 5, 5, 5, 5, 5, 5, 5]])"
      ]
     },
     "execution_count": 50,
     "metadata": {},
     "output_type": "execute_result"
    }
   ],
   "source": [
    "array"
   ]
  },
  {
   "cell_type": "code",
   "execution_count": 51,
   "id": "a0b185d6",
   "metadata": {},
   "outputs": [],
   "source": [
    "#3) Write a program to create a 3x4 matrix filled with values from 10 to 21."
   ]
  },
  {
   "cell_type": "code",
   "execution_count": 58,
   "id": "15880d92",
   "metadata": {},
   "outputs": [
    {
     "data": {
      "text/plain": [
       "array([[10, 11, 12, 13],\n",
       "       [14, 15, 16, 17],\n",
       "       [18, 19, 20, 21]])"
      ]
     },
     "execution_count": 58,
     "metadata": {},
     "output_type": "execute_result"
    }
   ],
   "source": [
    "np.arange(10,22).reshape(3,4)"
   ]
  },
  {
   "cell_type": "code",
   "execution_count": null,
   "id": "9c9ec172",
   "metadata": {},
   "outputs": [],
   "source": [
    "#4) Write a  program to create a 10x10 zero matrix with elements on the main diagonal equal to 0,1,2,3,4,5,6,7,8,9,"
   ]
  },
  {
   "cell_type": "code",
   "execution_count": 65,
   "id": "4e7c70e1",
   "metadata": {},
   "outputs": [
    {
     "data": {
      "text/plain": [
       "array([[0, 0, 0, 0, 0, 0, 0, 0, 0, 0],\n",
       "       [0, 1, 0, 0, 0, 0, 0, 0, 0, 0],\n",
       "       [0, 0, 2, 0, 0, 0, 0, 0, 0, 0],\n",
       "       [0, 0, 0, 3, 0, 0, 0, 0, 0, 0],\n",
       "       [0, 0, 0, 0, 4, 0, 0, 0, 0, 0],\n",
       "       [0, 0, 0, 0, 0, 5, 0, 0, 0, 0],\n",
       "       [0, 0, 0, 0, 0, 0, 6, 0, 0, 0],\n",
       "       [0, 0, 0, 0, 0, 0, 0, 7, 0, 0],\n",
       "       [0, 0, 0, 0, 0, 0, 0, 0, 8, 0],\n",
       "       [0, 0, 0, 0, 0, 0, 0, 0, 0, 9]])"
      ]
     },
     "execution_count": 65,
     "metadata": {},
     "output_type": "execute_result"
    }
   ],
   "source": [
    "np.diag(np.arange(0,10))"
   ]
  },
  {
   "cell_type": "code",
   "execution_count": 66,
   "id": "5c7404ca",
   "metadata": {},
   "outputs": [],
   "source": [
    "#5 Write a program to create a 4x4 array. Create an array from below array by swapping first and last, second and third columns."
   ]
  },
  {
   "cell_type": "code",
   "execution_count": 103,
   "id": "be138f26",
   "metadata": {},
   "outputs": [],
   "source": [
    "a=np.arange(1,17).reshape(4,4)"
   ]
  },
  {
   "cell_type": "code",
   "execution_count": 104,
   "id": "d8b8b9d6",
   "metadata": {},
   "outputs": [
    {
     "data": {
      "text/plain": [
       "array([[ 1,  2,  3,  4],\n",
       "       [ 5,  6,  7,  8],\n",
       "       [ 9, 10, 11, 12],\n",
       "       [13, 14, 15, 16]])"
      ]
     },
     "execution_count": 104,
     "metadata": {},
     "output_type": "execute_result"
    }
   ],
   "source": [
    "a"
   ]
  },
  {
   "cell_type": "code",
   "execution_count": 105,
   "id": "24823e79",
   "metadata": {},
   "outputs": [],
   "source": [
    "a[:,[0,-1]]=a[:,[-1,0]]\n",
    "a[:,[1,2]]=a[:,[2,1]]\n"
   ]
  },
  {
   "cell_type": "code",
   "execution_count": 106,
   "id": "43070492",
   "metadata": {},
   "outputs": [
    {
     "data": {
      "text/plain": [
       "array([[ 4,  3,  2,  1],\n",
       "       [ 8,  7,  6,  5],\n",
       "       [12, 11, 10,  9],\n",
       "       [16, 15, 14, 13]])"
      ]
     },
     "execution_count": 106,
     "metadata": {},
     "output_type": "execute_result"
    }
   ],
   "source": [
    "a"
   ]
  },
  {
   "cell_type": "code",
   "execution_count": 107,
   "id": "29372f85",
   "metadata": {},
   "outputs": [],
   "source": [
    "#6) Write a program to reverse an array (the first element becomes the last).\n",
    "#Given array:\n",
    "#[12 13 14 15 16 17 18 19 20 21 22 23 24 25 26 27 ]\n"
   ]
  },
  {
   "cell_type": "code",
   "execution_count": 110,
   "id": "bef128e0",
   "metadata": {},
   "outputs": [],
   "source": [
    "array=np.arange(12,28)"
   ]
  },
  {
   "cell_type": "code",
   "execution_count": 115,
   "id": "51eaff62",
   "metadata": {},
   "outputs": [
    {
     "data": {
      "text/plain": [
       "array([27, 26, 25, 24, 23, 22, 21, 20, 19, 18, 17, 16, 15, 14, 13, 12])"
      ]
     },
     "execution_count": 115,
     "metadata": {},
     "output_type": "execute_result"
    }
   ],
   "source": [
    "array[::-1]"
   ]
  },
  {
   "cell_type": "code",
   "execution_count": null,
   "id": "980970f9",
   "metadata": {},
   "outputs": [],
   "source": [
    "#7) Write a program to access all the elements greater than 30 and less than 80 and multiples of 5 \n",
    "#from an array of shape 10,10 .Elements range from 1 to 100"
   ]
  },
  {
   "cell_type": "code",
   "execution_count": 119,
   "id": "58d1c39f",
   "metadata": {},
   "outputs": [],
   "source": [
    "c=np.arange(1,101).reshape(10,10)"
   ]
  },
  {
   "cell_type": "code",
   "execution_count": 120,
   "id": "2e5ea9cd",
   "metadata": {},
   "outputs": [
    {
     "data": {
      "text/plain": [
       "array([[  1,   2,   3,   4,   5,   6,   7,   8,   9,  10],\n",
       "       [ 11,  12,  13,  14,  15,  16,  17,  18,  19,  20],\n",
       "       [ 21,  22,  23,  24,  25,  26,  27,  28,  29,  30],\n",
       "       [ 31,  32,  33,  34,  35,  36,  37,  38,  39,  40],\n",
       "       [ 41,  42,  43,  44,  45,  46,  47,  48,  49,  50],\n",
       "       [ 51,  52,  53,  54,  55,  56,  57,  58,  59,  60],\n",
       "       [ 61,  62,  63,  64,  65,  66,  67,  68,  69,  70],\n",
       "       [ 71,  72,  73,  74,  75,  76,  77,  78,  79,  80],\n",
       "       [ 81,  82,  83,  84,  85,  86,  87,  88,  89,  90],\n",
       "       [ 91,  92,  93,  94,  95,  96,  97,  98,  99, 100]])"
      ]
     },
     "execution_count": 120,
     "metadata": {},
     "output_type": "execute_result"
    }
   ],
   "source": [
    "c"
   ]
  },
  {
   "cell_type": "code",
   "execution_count": 124,
   "id": "ee2742ad",
   "metadata": {},
   "outputs": [],
   "source": [
    "c1=c[(c>30)&(c<80)&(c%5==0)]"
   ]
  },
  {
   "cell_type": "code",
   "execution_count": 125,
   "id": "1bd9ff32",
   "metadata": {},
   "outputs": [
    {
     "data": {
      "text/plain": [
       "array([35, 40, 45, 50, 55, 60, 65, 70, 75])"
      ]
     },
     "execution_count": 125,
     "metadata": {},
     "output_type": "execute_result"
    }
   ],
   "source": [
    "c1"
   ]
  },
  {
   "cell_type": "code",
   "execution_count": 126,
   "id": "77be78ef",
   "metadata": {},
   "outputs": [],
   "source": [
    "#8) Write a program to create a 2D array with 1 on the border and 0 inside."
   ]
  },
  {
   "cell_type": "code",
   "execution_count": 156,
   "id": "6e99c3cb",
   "metadata": {},
   "outputs": [],
   "source": [
    "array=np.ones((5,5),dtype=int)\n"
   ]
  },
  {
   "cell_type": "code",
   "execution_count": 157,
   "id": "c49622ae",
   "metadata": {},
   "outputs": [],
   "source": [
    "array[1:-1,1:-1]=0"
   ]
  },
  {
   "cell_type": "code",
   "execution_count": 158,
   "id": "63776c78",
   "metadata": {},
   "outputs": [
    {
     "data": {
      "text/plain": [
       "array([[1, 1, 1, 1, 1],\n",
       "       [1, 0, 0, 0, 1],\n",
       "       [1, 0, 0, 0, 1],\n",
       "       [1, 0, 0, 0, 1],\n",
       "       [1, 1, 1, 1, 1]])"
      ]
     },
     "execution_count": 158,
     "metadata": {},
     "output_type": "execute_result"
    }
   ],
   "source": [
    "array"
   ]
  },
  {
   "cell_type": "code",
   "execution_count": 159,
   "id": "f6134ef9",
   "metadata": {},
   "outputs": [],
   "source": [
    "#9) Write a program to create a checkerboard pattern .Don't use default array function\n",
    "                                                 \n"
   ]
  },
  {
   "cell_type": "code",
   "execution_count": 162,
   "id": "dd289590",
   "metadata": {},
   "outputs": [],
   "source": [
    "array=np.ones((8,8),dtype=int)"
   ]
  },
  {
   "cell_type": "code",
   "execution_count": 164,
   "id": "fdfbb6d1",
   "metadata": {},
   "outputs": [],
   "source": [
    "array[1::2,::2]=0\n",
    "array[::2,1::2]=0"
   ]
  },
  {
   "cell_type": "code",
   "execution_count": 165,
   "id": "a8de48d7",
   "metadata": {},
   "outputs": [
    {
     "data": {
      "text/plain": [
       "array([[1, 0, 1, 0, 1, 0, 1, 0],\n",
       "       [0, 1, 0, 1, 0, 1, 0, 1],\n",
       "       [1, 0, 1, 0, 1, 0, 1, 0],\n",
       "       [0, 1, 0, 1, 0, 1, 0, 1],\n",
       "       [1, 0, 1, 0, 1, 0, 1, 0],\n",
       "       [0, 1, 0, 1, 0, 1, 0, 1],\n",
       "       [1, 0, 1, 0, 1, 0, 1, 0],\n",
       "       [0, 1, 0, 1, 0, 1, 0, 1]])"
      ]
     },
     "execution_count": 165,
     "metadata": {},
     "output_type": "execute_result"
    }
   ],
   "source": [
    "array"
   ]
  },
  {
   "cell_type": "code",
   "execution_count": 166,
   "id": "2e873350",
   "metadata": {},
   "outputs": [],
   "source": [
    "# 10) Write a program to find common values between two arrays.\n",
    "#Expected Output:\n",
    "#array1: [10 20 40 60]\n",
    "#array2: [10, 30, 40,50]\n"
   ]
  },
  {
   "cell_type": "code",
   "execution_count": 167,
   "id": "36868e0a",
   "metadata": {},
   "outputs": [],
   "source": [
    "a=np.array([1,1,1,12,2,3,4,5,5,67,78,6,54,3,3,2,56,7,7,7,8,8,65,5,4,4,4,3,4,6,7,6])\n",
    "b=np.array([1,31,22,2,3,65,432,1233,453,6785,67875,7654,10,12,20,30,33311,234,])"
   ]
  },
  {
   "cell_type": "code",
   "execution_count": 172,
   "id": "542cfcb7",
   "metadata": {},
   "outputs": [],
   "source": [
    "x=np.intersect1d(a,b)"
   ]
  },
  {
   "cell_type": "code",
   "execution_count": 173,
   "id": "055083d0",
   "metadata": {},
   "outputs": [
    {
     "data": {
      "text/plain": [
       "array([ 1,  2,  3, 12, 65])"
      ]
     },
     "execution_count": 173,
     "metadata": {},
     "output_type": "execute_result"
    }
   ],
   "source": [
    "x"
   ]
  },
  {
   "cell_type": "code",
   "execution_count": 174,
   "id": "f16d4ffe",
   "metadata": {},
   "outputs": [],
   "source": [
    "# 11)Write a program to create an array 2d array and then reshape into 1d array"
   ]
  },
  {
   "cell_type": "code",
   "execution_count": 176,
   "id": "a45b2e8a",
   "metadata": {},
   "outputs": [],
   "source": [
    "array=np.arange(1,11).reshape(5,2)"
   ]
  },
  {
   "cell_type": "code",
   "execution_count": 179,
   "id": "18299b27",
   "metadata": {},
   "outputs": [
    {
     "data": {
      "text/plain": [
       "array([[ 1,  2],\n",
       "       [ 3,  4],\n",
       "       [ 5,  6],\n",
       "       [ 7,  8],\n",
       "       [ 9, 10]])"
      ]
     },
     "execution_count": 179,
     "metadata": {},
     "output_type": "execute_result"
    }
   ],
   "source": [
    "array"
   ]
  },
  {
   "cell_type": "code",
   "execution_count": 181,
   "id": "d2e654fa",
   "metadata": {},
   "outputs": [
    {
     "data": {
      "text/plain": [
       "array([ 1,  2,  3,  4,  5,  6,  7,  8,  9, 10])"
      ]
     },
     "execution_count": 181,
     "metadata": {},
     "output_type": "execute_result"
    }
   ],
   "source": [
    "array.flatten()"
   ]
  },
  {
   "cell_type": "code",
   "execution_count": 182,
   "id": "06c60b2c",
   "metadata": {},
   "outputs": [],
   "source": [
    "#12) Write a user defined function for creating a 1 or 2d array from scratch without using array functions"
   ]
  },
  {
   "cell_type": "code",
   "execution_count": 200,
   "id": "4391e311",
   "metadata": {},
   "outputs": [
    {
     "name": "stdout",
     "output_type": "stream",
     "text": [
      "enter the range: 4\n",
      "enter the elements: 1,2,3,4\n",
      "enter the elements: 2,3,4,5\n",
      "enter the elements: 3,4,5,6\n",
      "enter the elements: 1,2,3,4\n",
      "['1,2,3,4', '2,3,4,5', '3,4,5,6', '1,2,3,4']\n",
      "enter the dimension: 2\n",
      "array([[1,2,3,4]\n",
      "[2,3,4,5]\n",
      "[3,4,5,6]\n",
      "[1,2,3,4]\n",
      "])\n"
     ]
    }
   ],
   "source": [
    "def ndarray(a):\n",
    "    n=int(input(\"enter the dimension: \"))\n",
    "    if type(a)==list or type(a)==tuple:\n",
    "        c=len(a)\n",
    "    if n==1:\n",
    "        print(\"array({})\".format(a))\n",
    "    elif(n==0):\n",
    "        m=int(l[0])\n",
    "        print(\"array({})\".format(m)) \n",
    "    elif (n==2):    \n",
    "       \n",
    "        if(len(a[0])>1):\n",
    "            print(\"array([\",end=\"\")\n",
    "            for i in range(c):\n",
    "                print(\"[{}]\".format(a[i]))\n",
    "            print(\"])\")\n",
    "        else:\n",
    "            new=[]\n",
    "            for i in a:\n",
    "                if (i.isdigit()):\n",
    "                    z=int(i)\n",
    "                    new.append(z)\n",
    "            print(\"array([{}])\".format(new)) \n",
    "    else:\n",
    "        pass\n",
    "l=[]\n",
    "n=int(input(\"enter the range: \"))\n",
    "for i in range(n):\n",
    "    num=input(\"enter the elements: \")\n",
    "    l.append(num)\n",
    "print(l)\n",
    "ndarray(l)\n",
    "            "
   ]
  },
  {
   "cell_type": "code",
   "execution_count": null,
   "id": "fc2dc8be",
   "metadata": {},
   "outputs": [],
   "source": []
  }
 ],
 "metadata": {
  "kernelspec": {
   "display_name": "Python 3 (ipykernel)",
   "language": "python",
   "name": "python3"
  },
  "language_info": {
   "codemirror_mode": {
    "name": "ipython",
    "version": 3
   },
   "file_extension": ".py",
   "mimetype": "text/x-python",
   "name": "python",
   "nbconvert_exporter": "python",
   "pygments_lexer": "ipython3",
   "version": "3.10.9"
  }
 },
 "nbformat": 4,
 "nbformat_minor": 5
}
