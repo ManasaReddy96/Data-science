{
 "cells": [
  {
   "cell_type": "code",
   "execution_count": 1,
   "id": "c50a6752",
   "metadata": {},
   "outputs": [],
   "source": [
    "import pandas as pd"
   ]
  },
  {
   "cell_type": "code",
   "execution_count": 161,
   "id": "8679b50c",
   "metadata": {},
   "outputs": [],
   "source": [
    "data=pd.read_csv(\"C:\\\\Users\\\\user\\\\Downloads\\\\cleaned_all_phones.csv\")"
   ]
  },
  {
   "cell_type": "code",
   "execution_count": 162,
   "id": "da2e8bc2",
   "metadata": {},
   "outputs": [],
   "source": [
    "data1=data.copy()"
   ]
  },
  {
   "cell_type": "code",
   "execution_count": 163,
   "id": "3b0b430a",
   "metadata": {},
   "outputs": [
    {
     "data": {
      "text/html": [
       "<div>\n",
       "<style scoped>\n",
       "    .dataframe tbody tr th:only-of-type {\n",
       "        vertical-align: middle;\n",
       "    }\n",
       "\n",
       "    .dataframe tbody tr th {\n",
       "        vertical-align: top;\n",
       "    }\n",
       "\n",
       "    .dataframe thead th {\n",
       "        text-align: right;\n",
       "    }\n",
       "</style>\n",
       "<table border=\"1\" class=\"dataframe\">\n",
       "  <thead>\n",
       "    <tr style=\"text-align: right;\">\n",
       "      <th></th>\n",
       "      <th>phone_name</th>\n",
       "      <th>brand</th>\n",
       "      <th>os</th>\n",
       "      <th>inches</th>\n",
       "      <th>resolution</th>\n",
       "      <th>battery</th>\n",
       "      <th>battery_type</th>\n",
       "      <th>ram(GB)</th>\n",
       "      <th>announcement_date</th>\n",
       "      <th>weight(g)</th>\n",
       "      <th>...</th>\n",
       "      <th>video_1080p</th>\n",
       "      <th>video_4K</th>\n",
       "      <th>video_8K</th>\n",
       "      <th>video_30fps</th>\n",
       "      <th>video_60fps</th>\n",
       "      <th>video_120fps</th>\n",
       "      <th>video_240fps</th>\n",
       "      <th>video_480fps</th>\n",
       "      <th>video_960fps</th>\n",
       "      <th>price(USD)</th>\n",
       "    </tr>\n",
       "  </thead>\n",
       "  <tbody>\n",
       "    <tr>\n",
       "      <th>0</th>\n",
       "      <td>Y6II Compact</td>\n",
       "      <td>Huawei</td>\n",
       "      <td>Android 5.1</td>\n",
       "      <td>5.0</td>\n",
       "      <td>720x1280</td>\n",
       "      <td>2200</td>\n",
       "      <td>Li-Po</td>\n",
       "      <td>2</td>\n",
       "      <td>2016-09-01</td>\n",
       "      <td>140.0</td>\n",
       "      <td>...</td>\n",
       "      <td>False</td>\n",
       "      <td>False</td>\n",
       "      <td>False</td>\n",
       "      <td>True</td>\n",
       "      <td>False</td>\n",
       "      <td>False</td>\n",
       "      <td>False</td>\n",
       "      <td>False</td>\n",
       "      <td>False</td>\n",
       "      <td>120.0</td>\n",
       "    </tr>\n",
       "    <tr>\n",
       "      <th>1</th>\n",
       "      <td>K20 plus</td>\n",
       "      <td>LG</td>\n",
       "      <td>Android 7.0</td>\n",
       "      <td>5.3</td>\n",
       "      <td>720x1280</td>\n",
       "      <td>2700</td>\n",
       "      <td>Li-Ion</td>\n",
       "      <td>2</td>\n",
       "      <td>2016-12-01</td>\n",
       "      <td>140.0</td>\n",
       "      <td>...</td>\n",
       "      <td>True</td>\n",
       "      <td>False</td>\n",
       "      <td>False</td>\n",
       "      <td>True</td>\n",
       "      <td>False</td>\n",
       "      <td>False</td>\n",
       "      <td>False</td>\n",
       "      <td>False</td>\n",
       "      <td>False</td>\n",
       "      <td>100.0</td>\n",
       "    </tr>\n",
       "    <tr>\n",
       "      <th>2</th>\n",
       "      <td>P8 Lite (2017)</td>\n",
       "      <td>Huawei</td>\n",
       "      <td>Android 7.0</td>\n",
       "      <td>5.2</td>\n",
       "      <td>1080x1920</td>\n",
       "      <td>3000</td>\n",
       "      <td>Li-Ion</td>\n",
       "      <td>4</td>\n",
       "      <td>2017-01-01</td>\n",
       "      <td>147.0</td>\n",
       "      <td>...</td>\n",
       "      <td>True</td>\n",
       "      <td>False</td>\n",
       "      <td>False</td>\n",
       "      <td>True</td>\n",
       "      <td>False</td>\n",
       "      <td>False</td>\n",
       "      <td>False</td>\n",
       "      <td>False</td>\n",
       "      <td>False</td>\n",
       "      <td>420.0</td>\n",
       "    </tr>\n",
       "    <tr>\n",
       "      <th>3</th>\n",
       "      <td>Redmi Note 4</td>\n",
       "      <td>Xiaomi</td>\n",
       "      <td>Android 6.0</td>\n",
       "      <td>5.5</td>\n",
       "      <td>1080x1920</td>\n",
       "      <td>4100</td>\n",
       "      <td>Li-Po</td>\n",
       "      <td>4</td>\n",
       "      <td>2017-01-01</td>\n",
       "      <td>165.0</td>\n",
       "      <td>...</td>\n",
       "      <td>True</td>\n",
       "      <td>False</td>\n",
       "      <td>False</td>\n",
       "      <td>True</td>\n",
       "      <td>False</td>\n",
       "      <td>True</td>\n",
       "      <td>False</td>\n",
       "      <td>False</td>\n",
       "      <td>False</td>\n",
       "      <td>150.0</td>\n",
       "    </tr>\n",
       "    <tr>\n",
       "      <th>4</th>\n",
       "      <td>P10</td>\n",
       "      <td>Huawei</td>\n",
       "      <td>Android 7.0</td>\n",
       "      <td>5.1</td>\n",
       "      <td>1080x1920</td>\n",
       "      <td>3200</td>\n",
       "      <td>Li-Ion</td>\n",
       "      <td>4</td>\n",
       "      <td>2017-02-01</td>\n",
       "      <td>145.0</td>\n",
       "      <td>...</td>\n",
       "      <td>True</td>\n",
       "      <td>True</td>\n",
       "      <td>False</td>\n",
       "      <td>True</td>\n",
       "      <td>True</td>\n",
       "      <td>False</td>\n",
       "      <td>False</td>\n",
       "      <td>False</td>\n",
       "      <td>False</td>\n",
       "      <td>420.0</td>\n",
       "    </tr>\n",
       "  </tbody>\n",
       "</table>\n",
       "<p>5 rows × 22 columns</p>\n",
       "</div>"
      ],
      "text/plain": [
       "       phone_name   brand           os  inches resolution  battery  \\\n",
       "0    Y6II Compact  Huawei  Android 5.1     5.0   720x1280     2200   \n",
       "1        K20 plus      LG  Android 7.0     5.3   720x1280     2700   \n",
       "2  P8 Lite (2017)  Huawei  Android 7.0     5.2  1080x1920     3000   \n",
       "3    Redmi Note 4  Xiaomi  Android 6.0     5.5  1080x1920     4100   \n",
       "4             P10  Huawei  Android 7.0     5.1  1080x1920     3200   \n",
       "\n",
       "  battery_type  ram(GB) announcement_date  weight(g)  ...  video_1080p  \\\n",
       "0        Li-Po        2        2016-09-01      140.0  ...        False   \n",
       "1       Li-Ion        2        2016-12-01      140.0  ...         True   \n",
       "2       Li-Ion        4        2017-01-01      147.0  ...         True   \n",
       "3        Li-Po        4        2017-01-01      165.0  ...         True   \n",
       "4       Li-Ion        4        2017-02-01      145.0  ...         True   \n",
       "\n",
       "   video_4K  video_8K  video_30fps  video_60fps  video_120fps  video_240fps  \\\n",
       "0     False     False         True        False         False         False   \n",
       "1     False     False         True        False         False         False   \n",
       "2     False     False         True        False         False         False   \n",
       "3     False     False         True        False          True         False   \n",
       "4      True     False         True         True         False         False   \n",
       "\n",
       "   video_480fps  video_960fps  price(USD)  \n",
       "0         False         False       120.0  \n",
       "1         False         False       100.0  \n",
       "2         False         False       420.0  \n",
       "3         False         False       150.0  \n",
       "4         False         False       420.0  \n",
       "\n",
       "[5 rows x 22 columns]"
      ]
     },
     "execution_count": 163,
     "metadata": {},
     "output_type": "execute_result"
    }
   ],
   "source": [
    "data1.head()"
   ]
  },
  {
   "cell_type": "code",
   "execution_count": 164,
   "id": "903ea9c0",
   "metadata": {},
   "outputs": [
    {
     "name": "stdout",
     "output_type": "stream",
     "text": [
      "<class 'pandas.core.frame.DataFrame'>\n",
      "RangeIndex: 1512 entries, 0 to 1511\n",
      "Data columns (total 22 columns):\n",
      " #   Column             Non-Null Count  Dtype  \n",
      "---  ------             --------------  -----  \n",
      " 0   phone_name         1512 non-null   object \n",
      " 1   brand              1512 non-null   object \n",
      " 2   os                 1512 non-null   object \n",
      " 3   inches             1512 non-null   float64\n",
      " 4   resolution         1512 non-null   object \n",
      " 5   battery            1512 non-null   int64  \n",
      " 6   battery_type       1512 non-null   object \n",
      " 7   ram(GB)            1512 non-null   int64  \n",
      " 8   announcement_date  1512 non-null   object \n",
      " 9   weight(g)          1512 non-null   float64\n",
      " 10  storage(GB)        1512 non-null   int64  \n",
      " 11  video_720p         1512 non-null   bool   \n",
      " 12  video_1080p        1512 non-null   bool   \n",
      " 13  video_4K           1512 non-null   bool   \n",
      " 14  video_8K           1512 non-null   bool   \n",
      " 15  video_30fps        1512 non-null   bool   \n",
      " 16  video_60fps        1512 non-null   bool   \n",
      " 17  video_120fps       1512 non-null   bool   \n",
      " 18  video_240fps       1512 non-null   bool   \n",
      " 19  video_480fps       1512 non-null   bool   \n",
      " 20  video_960fps       1512 non-null   bool   \n",
      " 21  price(USD)         1512 non-null   float64\n",
      "dtypes: bool(10), float64(3), int64(3), object(6)\n",
      "memory usage: 156.6+ KB\n"
     ]
    }
   ],
   "source": [
    "data1.info()"
   ]
  },
  {
   "cell_type": "code",
   "execution_count": 10,
   "id": "9ddac947",
   "metadata": {},
   "outputs": [
    {
     "data": {
      "text/plain": [
       "(1512, 22)"
      ]
     },
     "execution_count": 10,
     "metadata": {},
     "output_type": "execute_result"
    }
   ],
   "source": [
    "data1.shape"
   ]
  },
  {
   "cell_type": "code",
   "execution_count": 36,
   "id": "0308f784",
   "metadata": {},
   "outputs": [
    {
     "data": {
      "text/plain": [
       "0"
      ]
     },
     "execution_count": 36,
     "metadata": {},
     "output_type": "execute_result"
    }
   ],
   "source": [
    "data1.duplicated().sum()"
   ]
  },
  {
   "cell_type": "code",
   "execution_count": 11,
   "id": "23a880e7",
   "metadata": {},
   "outputs": [],
   "source": [
    "#1) How many unique  mobile brands are there in the data provided"
   ]
  },
  {
   "cell_type": "code",
   "execution_count": 54,
   "id": "d3811e2d",
   "metadata": {},
   "outputs": [],
   "source": [
    "a=data1.groupby(\"brand\")"
   ]
  },
  {
   "cell_type": "code",
   "execution_count": 56,
   "id": "5d3c1521",
   "metadata": {},
   "outputs": [
    {
     "data": {
      "text/plain": [
       "13"
      ]
     },
     "execution_count": 56,
     "metadata": {},
     "output_type": "execute_result"
    }
   ],
   "source": [
    "len(a.ngroup().unique())"
   ]
  },
  {
   "cell_type": "code",
   "execution_count": 19,
   "id": "b049f7a2",
   "metadata": {},
   "outputs": [],
   "source": [
    "# 2) What is the average ram size of all the collected data"
   ]
  },
  {
   "cell_type": "code",
   "execution_count": 57,
   "id": "f0ce3b32",
   "metadata": {},
   "outputs": [],
   "source": [
    "ram=data1[\"ram(GB)\"].mean()"
   ]
  },
  {
   "cell_type": "code",
   "execution_count": 58,
   "id": "66de91b7",
   "metadata": {},
   "outputs": [
    {
     "data": {
      "text/plain": [
       "6.6838624338624335"
      ]
     },
     "execution_count": 58,
     "metadata": {},
     "output_type": "execute_result"
    }
   ],
   "source": [
    "ram"
   ]
  },
  {
   "cell_type": "code",
   "execution_count": 59,
   "id": "b3b292c1",
   "metadata": {},
   "outputs": [],
   "source": [
    "# 3) Which phone is having the maximum and minimum battery capacity"
   ]
  },
  {
   "cell_type": "code",
   "execution_count": 139,
   "id": "da40334f",
   "metadata": {},
   "outputs": [
    {
     "data": {
      "text/plain": [
       "573    V6\n",
       "Name: phone_name, dtype: object"
      ]
     },
     "execution_count": 139,
     "metadata": {},
     "output_type": "execute_result"
    }
   ],
   "source": [
    "data1[\"phone_name\"][(data1[\"battery\"]==data1[\"battery\"].max())]"
   ]
  },
  {
   "cell_type": "code",
   "execution_count": 138,
   "id": "a42e6fad",
   "metadata": {},
   "outputs": [
    {
     "data": {
      "text/plain": [
       "62             iPhone 8\n",
       "536    iPhone SE (2020)\n",
       "Name: phone_name, dtype: object"
      ]
     },
     "execution_count": 138,
     "metadata": {},
     "output_type": "execute_result"
    }
   ],
   "source": [
    "data1[\"phone_name\"][(data1[\"battery\"]==data1[\"battery\"].min())]"
   ]
  },
  {
   "cell_type": "code",
   "execution_count": 62,
   "id": "3829bbbc",
   "metadata": {},
   "outputs": [],
   "source": [
    "# 4) What is the maximum battery capacity provided by Huawei Company"
   ]
  },
  {
   "cell_type": "code",
   "execution_count": 137,
   "id": "1e0cf93d",
   "metadata": {},
   "outputs": [
    {
     "data": {
      "text/plain": [
       "7000"
      ]
     },
     "execution_count": 137,
     "metadata": {},
     "output_type": "execute_result"
    }
   ],
   "source": [
    "data[\"battery\"][(data[\"brand\"]==\"Huawei\")].max()"
   ]
  },
  {
   "cell_type": "code",
   "execution_count": 135,
   "id": "6973835b",
   "metadata": {},
   "outputs": [],
   "source": [
    "#6) Which Phone brand is providing the highest and lowest ram"
   ]
  },
  {
   "cell_type": "code",
   "execution_count": 166,
   "id": "994dd642",
   "metadata": {},
   "outputs": [
    {
     "data": {
      "text/plain": [
       "array(['Xiaomi', 'OnePlus', 'Realme'], dtype=object)"
      ]
     },
     "execution_count": 166,
     "metadata": {},
     "output_type": "execute_result"
    }
   ],
   "source": [
    "data1[\"brand\"][(data1[\"ram(GB)\"]==data1[\"ram(GB)\"].max())].unique()"
   ]
  },
  {
   "cell_type": "code",
   "execution_count": 167,
   "id": "1d1b4e26",
   "metadata": {},
   "outputs": [
    {
     "data": {
      "text/plain": [
       "array(['Huawei', 'Samsung', 'Xiaomi', 'LG'], dtype=object)"
      ]
     },
     "execution_count": 167,
     "metadata": {},
     "output_type": "execute_result"
    }
   ],
   "source": [
    "data1[\"brand\"][(data1[\"ram(GB)\"]==data1[\"ram(GB)\"].min())].unique()"
   ]
  },
  {
   "cell_type": "code",
   "execution_count": null,
   "id": "c0ce6fa2",
   "metadata": {},
   "outputs": [],
   "source": [
    "# How many phones has android 7.0 as there operating system"
   ]
  },
  {
   "cell_type": "code",
   "execution_count": 148,
   "id": "d48d5c38",
   "metadata": {},
   "outputs": [
    {
     "data": {
      "text/plain": [
       "33"
      ]
     },
     "execution_count": 148,
     "metadata": {},
     "output_type": "execute_result"
    }
   ],
   "source": [
    "data1[\"phone_name\"][(data1[\"os\"]==\"Android 7.0\")].count()"
   ]
  },
  {
   "cell_type": "code",
   "execution_count": 149,
   "id": "05df8942",
   "metadata": {},
   "outputs": [],
   "source": [
    "# Which Phone is the oldest"
   ]
  },
  {
   "cell_type": "code",
   "execution_count": 168,
   "id": "523edae1",
   "metadata": {},
   "outputs": [],
   "source": [
    "data1[\"announcement_date\"]=pd.to_datetime(data1[\"announcement_date\"])"
   ]
  },
  {
   "cell_type": "code",
   "execution_count": 169,
   "id": "d6caa3c9",
   "metadata": {},
   "outputs": [
    {
     "name": "stdout",
     "output_type": "stream",
     "text": [
      "<class 'pandas.core.frame.DataFrame'>\n",
      "RangeIndex: 1512 entries, 0 to 1511\n",
      "Data columns (total 22 columns):\n",
      " #   Column             Non-Null Count  Dtype         \n",
      "---  ------             --------------  -----         \n",
      " 0   phone_name         1512 non-null   object        \n",
      " 1   brand              1512 non-null   object        \n",
      " 2   os                 1512 non-null   object        \n",
      " 3   inches             1512 non-null   float64       \n",
      " 4   resolution         1512 non-null   object        \n",
      " 5   battery            1512 non-null   int64         \n",
      " 6   battery_type       1512 non-null   object        \n",
      " 7   ram(GB)            1512 non-null   int64         \n",
      " 8   announcement_date  1512 non-null   datetime64[ns]\n",
      " 9   weight(g)          1512 non-null   float64       \n",
      " 10  storage(GB)        1512 non-null   int64         \n",
      " 11  video_720p         1512 non-null   bool          \n",
      " 12  video_1080p        1512 non-null   bool          \n",
      " 13  video_4K           1512 non-null   bool          \n",
      " 14  video_8K           1512 non-null   bool          \n",
      " 15  video_30fps        1512 non-null   bool          \n",
      " 16  video_60fps        1512 non-null   bool          \n",
      " 17  video_120fps       1512 non-null   bool          \n",
      " 18  video_240fps       1512 non-null   bool          \n",
      " 19  video_480fps       1512 non-null   bool          \n",
      " 20  video_960fps       1512 non-null   bool          \n",
      " 21  price(USD)         1512 non-null   float64       \n",
      "dtypes: bool(10), datetime64[ns](1), float64(3), int64(3), object(5)\n",
      "memory usage: 156.6+ KB\n"
     ]
    }
   ],
   "source": [
    "data1.info()"
   ]
  },
  {
   "cell_type": "code",
   "execution_count": 170,
   "id": "4d5414da",
   "metadata": {},
   "outputs": [],
   "source": [
    "# Which brand produced maximum number of phone in the given data"
   ]
  },
  {
   "cell_type": "code",
   "execution_count": 174,
   "id": "1f971e01",
   "metadata": {},
   "outputs": [
    {
     "data": {
      "text/plain": [
       "'Xiaomi'"
      ]
     },
     "execution_count": 174,
     "metadata": {},
     "output_type": "execute_result"
    }
   ],
   "source": [
    "data1[\"brand\"][(data1[\"brand\"]).value_counts().max()]"
   ]
  },
  {
   "cell_type": "code",
   "execution_count": 175,
   "id": "86b361c7",
   "metadata": {},
   "outputs": [
    {
     "data": {
      "text/plain": [
       "'LG'"
      ]
     },
     "execution_count": 175,
     "metadata": {},
     "output_type": "execute_result"
    }
   ],
   "source": [
    "data1[\"brand\"][(data1[\"brand\"]).value_counts().min()]"
   ]
  },
  {
   "cell_type": "code",
   "execution_count": 180,
   "id": "40c69643",
   "metadata": {},
   "outputs": [],
   "source": [
    "# Give the count of phones supporting\n",
    "#4k video\n"
   ]
  },
  {
   "cell_type": "code",
   "execution_count": 185,
   "id": "4a154812",
   "metadata": {},
   "outputs": [
    {
     "data": {
      "text/plain": [
       "801"
      ]
     },
     "execution_count": 185,
     "metadata": {},
     "output_type": "execute_result"
    }
   ],
   "source": [
    "data1[\"phone_name\"][(data1[\"video_4K\"]==True)].count()"
   ]
  },
  {
   "cell_type": "code",
   "execution_count": 186,
   "id": "e1b08731",
   "metadata": {},
   "outputs": [],
   "source": [
    "#8k video"
   ]
  },
  {
   "cell_type": "code",
   "execution_count": 187,
   "id": "9b910834",
   "metadata": {},
   "outputs": [
    {
     "data": {
      "text/plain": [
       "86"
      ]
     },
     "execution_count": 187,
     "metadata": {},
     "output_type": "execute_result"
    }
   ],
   "source": [
    "data1[\"phone_name\"][(data1[\"video_8K\"]==True)].count()"
   ]
  },
  {
   "cell_type": "code",
   "execution_count": 188,
   "id": "69e2ecc6",
   "metadata": {},
   "outputs": [
    {
     "data": {
      "text/plain": [
       "1503"
      ]
     },
     "execution_count": 188,
     "metadata": {},
     "output_type": "execute_result"
    }
   ],
   "source": [
    "data1[\"phone_name\"][(data1[\"video_1080p\"]==True)].count()"
   ]
  },
  {
   "cell_type": "code",
   "execution_count": 189,
   "id": "e5b5402e",
   "metadata": {},
   "outputs": [],
   "source": [
    "# How many phones supports Li-Po and Li-ion Battery"
   ]
  },
  {
   "cell_type": "code",
   "execution_count": 192,
   "id": "992cdb11",
   "metadata": {},
   "outputs": [
    {
     "data": {
      "text/plain": [
       "0"
      ]
     },
     "execution_count": 192,
     "metadata": {},
     "output_type": "execute_result"
    }
   ],
   "source": [
    "data1[\"phone_name\"][(data1[\"battery_type\"]==\"Li-Po\") & (data1[\"battery_type\"]==\"Li-ion\")].count()"
   ]
  },
  {
   "cell_type": "code",
   "execution_count": 193,
   "id": "307cd44d",
   "metadata": {},
   "outputs": [],
   "source": [
    "# How many sony phones supports 720x1280 resolution"
   ]
  },
  {
   "cell_type": "code",
   "execution_count": 201,
   "id": "c47d232d",
   "metadata": {},
   "outputs": [
    {
     "data": {
      "text/plain": [
       "41"
      ]
     },
     "execution_count": 201,
     "metadata": {},
     "output_type": "execute_result"
    }
   ],
   "source": [
    "data1[\"phone_name\"][(data1[\"resolution\"]==\"720x1280\")].count()\n"
   ]
  },
  {
   "cell_type": "code",
   "execution_count": 202,
   "id": "5ebcacc0",
   "metadata": {},
   "outputs": [],
   "source": [
    "#  Print a pivot table for finding the average weights ,total weights,based on brand and battery type"
   ]
  },
  {
   "cell_type": "code",
   "execution_count": 214,
   "id": "e1cb7c5e",
   "metadata": {},
   "outputs": [],
   "source": [
    "data2=data1.fillna({\"weight(g)\":0})"
   ]
  },
  {
   "cell_type": "code",
   "execution_count": 215,
   "id": "d83ef07d",
   "metadata": {},
   "outputs": [
    {
     "data": {
      "text/html": [
       "<div>\n",
       "<style scoped>\n",
       "    .dataframe tbody tr th:only-of-type {\n",
       "        vertical-align: middle;\n",
       "    }\n",
       "\n",
       "    .dataframe tbody tr th {\n",
       "        vertical-align: top;\n",
       "    }\n",
       "\n",
       "    .dataframe thead tr th {\n",
       "        text-align: left;\n",
       "    }\n",
       "\n",
       "    .dataframe thead tr:last-of-type th {\n",
       "        text-align: right;\n",
       "    }\n",
       "</style>\n",
       "<table border=\"1\" class=\"dataframe\">\n",
       "  <thead>\n",
       "    <tr>\n",
       "      <th></th>\n",
       "      <th colspan=\"3\" halign=\"left\">mean</th>\n",
       "      <th colspan=\"3\" halign=\"left\">sum</th>\n",
       "    </tr>\n",
       "    <tr>\n",
       "      <th>battery_type</th>\n",
       "      <th>Li-Ion</th>\n",
       "      <th>Li-Po</th>\n",
       "      <th>All</th>\n",
       "      <th>Li-Ion</th>\n",
       "      <th>Li-Po</th>\n",
       "      <th>All</th>\n",
       "    </tr>\n",
       "    <tr>\n",
       "      <th>brand</th>\n",
       "      <th></th>\n",
       "      <th></th>\n",
       "      <th></th>\n",
       "      <th></th>\n",
       "      <th></th>\n",
       "      <th></th>\n",
       "    </tr>\n",
       "  </thead>\n",
       "  <tbody>\n",
       "    <tr>\n",
       "      <th>Apple</th>\n",
       "      <td>186.227273</td>\n",
       "      <td>NaN</td>\n",
       "      <td>186.227273</td>\n",
       "      <td>4097.0</td>\n",
       "      <td>NaN</td>\n",
       "      <td>4097.0</td>\n",
       "    </tr>\n",
       "    <tr>\n",
       "      <th>Google</th>\n",
       "      <td>190.666667</td>\n",
       "      <td>176.923077</td>\n",
       "      <td>181.263158</td>\n",
       "      <td>1144.0</td>\n",
       "      <td>2300.0</td>\n",
       "      <td>3444.0</td>\n",
       "    </tr>\n",
       "    <tr>\n",
       "      <th>Honor</th>\n",
       "      <td>165.333333</td>\n",
       "      <td>190.611570</td>\n",
       "      <td>190.000000</td>\n",
       "      <td>496.0</td>\n",
       "      <td>23064.0</td>\n",
       "      <td>23560.0</td>\n",
       "    </tr>\n",
       "    <tr>\n",
       "      <th>Huawei</th>\n",
       "      <td>158.354839</td>\n",
       "      <td>187.556604</td>\n",
       "      <td>180.948905</td>\n",
       "      <td>4909.0</td>\n",
       "      <td>19881.0</td>\n",
       "      <td>24790.0</td>\n",
       "    </tr>\n",
       "    <tr>\n",
       "      <th>LG</th>\n",
       "      <td>154.851852</td>\n",
       "      <td>183.812500</td>\n",
       "      <td>173.386667</td>\n",
       "      <td>4181.0</td>\n",
       "      <td>8823.0</td>\n",
       "      <td>13004.0</td>\n",
       "    </tr>\n",
       "    <tr>\n",
       "      <th>Lenovo</th>\n",
       "      <td>190.142857</td>\n",
       "      <td>218.586207</td>\n",
       "      <td>209.325581</td>\n",
       "      <td>2662.0</td>\n",
       "      <td>6339.0</td>\n",
       "      <td>9001.0</td>\n",
       "    </tr>\n",
       "    <tr>\n",
       "      <th>OnePlus</th>\n",
       "      <td>NaN</td>\n",
       "      <td>191.553191</td>\n",
       "      <td>191.553191</td>\n",
       "      <td>NaN</td>\n",
       "      <td>9003.0</td>\n",
       "      <td>9003.0</td>\n",
       "    </tr>\n",
       "    <tr>\n",
       "      <th>Oppo</th>\n",
       "      <td>157.833333</td>\n",
       "      <td>183.174603</td>\n",
       "      <td>180.319249</td>\n",
       "      <td>3788.0</td>\n",
       "      <td>34620.0</td>\n",
       "      <td>38408.0</td>\n",
       "    </tr>\n",
       "    <tr>\n",
       "      <th>Realme</th>\n",
       "      <td>166.833333</td>\n",
       "      <td>189.688742</td>\n",
       "      <td>188.815287</td>\n",
       "      <td>1001.0</td>\n",
       "      <td>28643.0</td>\n",
       "      <td>29644.0</td>\n",
       "    </tr>\n",
       "    <tr>\n",
       "      <th>Samsung</th>\n",
       "      <td>178.531250</td>\n",
       "      <td>196.727273</td>\n",
       "      <td>188.247573</td>\n",
       "      <td>17139.0</td>\n",
       "      <td>21640.0</td>\n",
       "      <td>38779.0</td>\n",
       "    </tr>\n",
       "    <tr>\n",
       "      <th>Sony</th>\n",
       "      <td>177.333333</td>\n",
       "      <td>178.769231</td>\n",
       "      <td>177.837838</td>\n",
       "      <td>4256.0</td>\n",
       "      <td>2324.0</td>\n",
       "      <td>6580.0</td>\n",
       "    </tr>\n",
       "    <tr>\n",
       "      <th>Vivo</th>\n",
       "      <td>NaN</td>\n",
       "      <td>190.232143</td>\n",
       "      <td>190.232143</td>\n",
       "      <td>NaN</td>\n",
       "      <td>31959.0</td>\n",
       "      <td>31959.0</td>\n",
       "    </tr>\n",
       "    <tr>\n",
       "      <th>Xiaomi</th>\n",
       "      <td>179.294118</td>\n",
       "      <td>195.906883</td>\n",
       "      <td>194.837121</td>\n",
       "      <td>3048.0</td>\n",
       "      <td>48389.0</td>\n",
       "      <td>51437.0</td>\n",
       "    </tr>\n",
       "    <tr>\n",
       "      <th>All</th>\n",
       "      <td>173.040741</td>\n",
       "      <td>190.809179</td>\n",
       "      <td>187.636243</td>\n",
       "      <td>46721.0</td>\n",
       "      <td>236985.0</td>\n",
       "      <td>283706.0</td>\n",
       "    </tr>\n",
       "  </tbody>\n",
       "</table>\n",
       "</div>"
      ],
      "text/plain": [
       "                    mean                              sum                    \n",
       "battery_type      Li-Ion       Li-Po         All   Li-Ion     Li-Po       All\n",
       "brand                                                                        \n",
       "Apple         186.227273         NaN  186.227273   4097.0       NaN    4097.0\n",
       "Google        190.666667  176.923077  181.263158   1144.0    2300.0    3444.0\n",
       "Honor         165.333333  190.611570  190.000000    496.0   23064.0   23560.0\n",
       "Huawei        158.354839  187.556604  180.948905   4909.0   19881.0   24790.0\n",
       "LG            154.851852  183.812500  173.386667   4181.0    8823.0   13004.0\n",
       "Lenovo        190.142857  218.586207  209.325581   2662.0    6339.0    9001.0\n",
       "OnePlus              NaN  191.553191  191.553191      NaN    9003.0    9003.0\n",
       "Oppo          157.833333  183.174603  180.319249   3788.0   34620.0   38408.0\n",
       "Realme        166.833333  189.688742  188.815287   1001.0   28643.0   29644.0\n",
       "Samsung       178.531250  196.727273  188.247573  17139.0   21640.0   38779.0\n",
       "Sony          177.333333  178.769231  177.837838   4256.0    2324.0    6580.0\n",
       "Vivo                 NaN  190.232143  190.232143      NaN   31959.0   31959.0\n",
       "Xiaomi        179.294118  195.906883  194.837121   3048.0   48389.0   51437.0\n",
       "All           173.040741  190.809179  187.636243  46721.0  236985.0  283706.0"
      ]
     },
     "execution_count": 215,
     "metadata": {},
     "output_type": "execute_result"
    }
   ],
   "source": [
    "pd.pivot_table(data2,index=\"brand\",columns=\"battery_type\",values=\"weight(g)\",aggfunc=[\"mean\",\"sum\"],margins=True)"
   ]
  },
  {
   "cell_type": "code",
   "execution_count": null,
   "id": "555aaf61",
   "metadata": {},
   "outputs": [],
   "source": []
  }
 ],
 "metadata": {
  "kernelspec": {
   "display_name": "Python 3 (ipykernel)",
   "language": "python",
   "name": "python3"
  },
  "language_info": {
   "codemirror_mode": {
    "name": "ipython",
    "version": 3
   },
   "file_extension": ".py",
   "mimetype": "text/x-python",
   "name": "python",
   "nbconvert_exporter": "python",
   "pygments_lexer": "ipython3",
   "version": "3.10.9"
  }
 },
 "nbformat": 4,
 "nbformat_minor": 5
}
