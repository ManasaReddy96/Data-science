{
 "cells": [
  {
   "cell_type": "code",
   "execution_count": null,
   "id": "0ee80a2e",
   "metadata": {},
   "outputs": [],
   "source": [
    "###1) Solve the below problem by using only numpy on tip data set\n"
   ]
  },
  {
   "cell_type": "code",
   "execution_count": 237,
   "id": "eb09b824",
   "metadata": {},
   "outputs": [],
   "source": [
    "import numpy as np"
   ]
  },
  {
   "cell_type": "code",
   "execution_count": 238,
   "id": "e92b1218",
   "metadata": {
    "scrolled": true
   },
   "outputs": [],
   "source": [
    "# here tip data set as veriable a is given\n",
    "a=np.genfromtxt(\"C:\\\\Users\\\\user\\\\Downloads\\\\tipsf.csv\",delimiter=\",\",skip_header=1)\n"
   ]
  },
  {
   "cell_type": "code",
   "execution_count": 39,
   "id": "cbaea7ed",
   "metadata": {},
   "outputs": [
    {
     "data": {
      "text/plain": [
       "array([[  0.  ,  16.99,   1.01, ...,   1.  ,   0.  ,   2.  ],\n",
       "       [  1.  ,  10.34,   1.66, ...,   1.  ,   0.  ,   3.  ],\n",
       "       [  2.  ,  21.01,   3.5 , ...,   1.  ,   0.  ,   3.  ],\n",
       "       ...,\n",
       "       [241.  ,  22.67,   2.  , ...,   0.  ,   0.  ,   2.  ],\n",
       "       [242.  ,  17.82,   1.75, ...,   0.  ,   0.  ,   2.  ],\n",
       "       [243.  ,  18.78,   3.  , ...,   2.  ,   0.  ,   2.  ]])"
      ]
     },
     "execution_count": 39,
     "metadata": {},
     "output_type": "execute_result"
    }
   ],
   "source": [
    "a"
   ]
  },
  {
   "cell_type": "code",
   "execution_count": 40,
   "id": "e52e3cad",
   "metadata": {},
   "outputs": [],
   "source": [
    "#What is the total bill value?"
   ]
  },
  {
   "cell_type": "code",
   "execution_count": 42,
   "id": "dba820e3",
   "metadata": {},
   "outputs": [],
   "source": [
    "total_bill= np.sum(a[:,1])"
   ]
  },
  {
   "cell_type": "code",
   "execution_count": 43,
   "id": "a9f4e518",
   "metadata": {},
   "outputs": [
    {
     "data": {
      "text/plain": [
       "4827.77"
      ]
     },
     "execution_count": 43,
     "metadata": {},
     "output_type": "execute_result"
    }
   ],
   "source": [
    "total_bill"
   ]
  },
  {
   "cell_type": "code",
   "execution_count": 44,
   "id": "85888257",
   "metadata": {},
   "outputs": [],
   "source": [
    "#What is the total tip value?"
   ]
  },
  {
   "cell_type": "code",
   "execution_count": 45,
   "id": "ad3f81a5",
   "metadata": {},
   "outputs": [],
   "source": [
    "tip_value=np.sum(a[:,2])"
   ]
  },
  {
   "cell_type": "code",
   "execution_count": 46,
   "id": "10f1a8ee",
   "metadata": {},
   "outputs": [
    {
     "data": {
      "text/plain": [
       "731.5799999999999"
      ]
     },
     "execution_count": 46,
     "metadata": {},
     "output_type": "execute_result"
    }
   ],
   "source": [
    "tip_value"
   ]
  },
  {
   "cell_type": "code",
   "execution_count": 47,
   "id": "0895a463",
   "metadata": {},
   "outputs": [],
   "source": [
    "# 3 count how many sun sat thu fri are there"
   ]
  },
  {
   "cell_type": "code",
   "execution_count": 54,
   "id": "c042d91b",
   "metadata": {},
   "outputs": [
    {
     "name": "stdout",
     "output_type": "stream",
     "text": [
      "sunday count is: 76\n",
      "saturday count is: 87\n",
      "thursday count is: 62\n",
      "Friday count is: 19\n"
     ]
    }
   ],
   "source": [
    "day=np.unique(a[:,5],return_counts=True)\n",
    "count=day[1]\n",
    "print(\"sunday count is:\",count[1])\n",
    "print(\"saturday count is:\",count[0])\n",
    "print(\"thursday count is:\",count[2])\n",
    "print(\"Friday count is:\",count[3])"
   ]
  },
  {
   "cell_type": "code",
   "execution_count": 55,
   "id": "1900666d",
   "metadata": {},
   "outputs": [],
   "source": [
    "# 4) how many smokers are there"
   ]
  },
  {
   "cell_type": "code",
   "execution_count": 64,
   "id": "71220ceb",
   "metadata": {},
   "outputs": [
    {
     "name": "stdout",
     "output_type": "stream",
     "text": [
      "Smokers 93\n"
     ]
    }
   ],
   "source": [
    "smokers=a[:,4][a[:,4]==1]\n",
    "print(\"Smokers\",len(smokers))\n"
   ]
  },
  {
   "cell_type": "code",
   "execution_count": 65,
   "id": "20059d74",
   "metadata": {},
   "outputs": [],
   "source": [
    "# max and min tip given female and male"
   ]
  },
  {
   "cell_type": "code",
   "execution_count": 76,
   "id": "5b524e5f",
   "metadata": {},
   "outputs": [],
   "source": [
    "tip_female=a[:,2][a[:,3]==1]\n",
    "tip_male=a[:,2][a[:,3]==0]"
   ]
  },
  {
   "cell_type": "code",
   "execution_count": 83,
   "id": "1ed2bbe5",
   "metadata": {},
   "outputs": [
    {
     "name": "stdout",
     "output_type": "stream",
     "text": [
      "female max tip: 10.0\n",
      "male max tip: 6.5\n",
      "female min tip: 1.0\n",
      "male min tip: 1.0\n"
     ]
    }
   ],
   "source": [
    "print(\"female max tip:\",np.max(tip_female))\n",
    "print(\"male max tip:\", np.max(tip_male))\n",
    "print(\"female min tip:\",np.min(tip_female))\n",
    "print(\"male min tip:\",np.min(tip_male))\n",
    "\n"
   ]
  },
  {
   "cell_type": "code",
   "execution_count": 84,
   "id": "3a9fe436",
   "metadata": {},
   "outputs": [],
   "source": [
    "# 5)what is avg tip given by male and female"
   ]
  },
  {
   "cell_type": "code",
   "execution_count": 85,
   "id": "1cfcf9d6",
   "metadata": {},
   "outputs": [],
   "source": [
    "tip_female=a[:,2][a[:,3]==1]\n",
    "tip_male=a[:,2][a[:,3]==0]"
   ]
  },
  {
   "cell_type": "code",
   "execution_count": 92,
   "id": "01ad578b",
   "metadata": {},
   "outputs": [
    {
     "name": "stdout",
     "output_type": "stream",
     "text": [
      "avg tip by male is  2.8334482758620685\n",
      "avg tip by female is 3.0896178343949043\n"
     ]
    }
   ],
   "source": [
    "print(\"avg tip by male is \",np.mean(tip_male))\n",
    "print(\"avg tip by female is\",np.mean(tip_female))"
   ]
  },
  {
   "cell_type": "code",
   "execution_count": 93,
   "id": "26c07d2f",
   "metadata": {},
   "outputs": [],
   "source": [
    "#6)How much amount have been spent by male and female"
   ]
  },
  {
   "cell_type": "code",
   "execution_count": 97,
   "id": "fde47b09",
   "metadata": {},
   "outputs": [
    {
     "name": "stdout",
     "output_type": "stream",
     "text": [
      "amount spent by female: 3256.8199999999997\n",
      "amount spent by male: 1570.9499999999996\n"
     ]
    }
   ],
   "source": [
    "total_amount_male=a[:,1][a[:,3]==0]\n",
    "total_amount_female=a[:,1][a[:,3]==1]\n",
    "print(\"amount spent by female:\",np.sum(total_amount_female))\n",
    "print(\"amount spent by male:\",np.sum(total_amount_male))"
   ]
  },
  {
   "cell_type": "code",
   "execution_count": 98,
   "id": "f835b5f2",
   "metadata": {},
   "outputs": [],
   "source": [
    "#7) what is the min and max tip given"
   ]
  },
  {
   "cell_type": "code",
   "execution_count": 101,
   "id": "91180cc0",
   "metadata": {},
   "outputs": [],
   "source": [
    "tip_max=np.max(a[:,2])\n",
    "tip_min=np.min(a[:,2])"
   ]
  },
  {
   "cell_type": "code",
   "execution_count": 102,
   "id": "48e01e4c",
   "metadata": {},
   "outputs": [
    {
     "name": "stdout",
     "output_type": "stream",
     "text": [
      "max tip: 10.0\n",
      "min tip: 1.0\n"
     ]
    }
   ],
   "source": [
    "print(\"max tip:\",tip_max)\n",
    "print(\"min tip:\",tip_min)"
   ]
  },
  {
   "cell_type": "code",
   "execution_count": 103,
   "id": "b4ee952b",
   "metadata": {},
   "outputs": [],
   "source": [
    "#8)how many male and female going for dinner and lunch"
   ]
  },
  {
   "cell_type": "code",
   "execution_count": 129,
   "id": "b9064b1a",
   "metadata": {},
   "outputs": [],
   "source": [
    "lunch_male=(a[:,3]==0)&[a[:,6]==0]\n",
    "dinner_male=(a[:,3]==0)&[a[:,6]==1]\n",
    "lunch_female=(a[:,3]==1)&[a[:,6]==0]\n",
    "dinner_female=(a[:,3]==1)&[a[:,6]==1]\n"
   ]
  },
  {
   "cell_type": "code",
   "execution_count": 130,
   "id": "bbbaf0ec",
   "metadata": {},
   "outputs": [
    {
     "name": "stdout",
     "output_type": "stream",
     "text": [
      "no of males went for lunch 52\n",
      "no of males went for dinner 35\n",
      "no of female went for lunch 124\n",
      "no of females went for dinner 124\n"
     ]
    }
   ],
   "source": [
    "print(\"no of males went for lunch\",np.sum(lunch_male))\n",
    "print(\"no of males went for dinner\",np.sum(dinner_male))\n",
    "print(\"no of female went for lunch\",np.sum(lunch_female))\n",
    "print(\"no of females went for dinner\",np.sum(lunch_female))"
   ]
  },
  {
   "cell_type": "code",
   "execution_count": 131,
   "id": "0efa04e0",
   "metadata": {},
   "outputs": [],
   "source": [
    "#9) find out the avg size"
   ]
  },
  {
   "cell_type": "code",
   "execution_count": 133,
   "id": "e9e804bf",
   "metadata": {},
   "outputs": [],
   "source": [
    "avg_size=np.mean(a[:,7])"
   ]
  },
  {
   "cell_type": "code",
   "execution_count": 134,
   "id": "663a6860",
   "metadata": {},
   "outputs": [
    {
     "data": {
      "text/plain": [
       "2.569672131147541"
      ]
     },
     "execution_count": 134,
     "metadata": {},
     "output_type": "execute_result"
    }
   ],
   "source": [
    "avg_size"
   ]
  },
  {
   "cell_type": "code",
   "execution_count": 135,
   "id": "7e254242",
   "metadata": {},
   "outputs": [],
   "source": [
    "#10) How many female smokers are there and male smokers are there"
   ]
  },
  {
   "cell_type": "code",
   "execution_count": 142,
   "id": "d3fd6bf1",
   "metadata": {},
   "outputs": [],
   "source": [
    "female_smokers=a[:,4][(a[:,4]==1) & (a[:,3]==1)]\n",
    "male_smokers=a[:,4][(a[:,4]==1) & (a[:,3]==0)]"
   ]
  },
  {
   "cell_type": "code",
   "execution_count": 143,
   "id": "0f3b7871",
   "metadata": {},
   "outputs": [
    {
     "name": "stdout",
     "output_type": "stream",
     "text": [
      "The total no.of female smokers: 60\n",
      "The total no.of male smokers: 33\n"
     ]
    }
   ],
   "source": [
    "print(\"The total no.of female smokers:\",len(female_smokers))\n",
    "print(\"The total no.of male smokers:\",len(male_smokers))\n"
   ]
  },
  {
   "cell_type": "code",
   "execution_count": null,
   "id": "b5f544cb",
   "metadata": {},
   "outputs": [],
   "source": [
    "###2)Solve the below problem by using only numpy functions on the  below given data set"
   ]
  },
  {
   "cell_type": "code",
   "execution_count": 147,
   "id": "f792ce6a",
   "metadata": {},
   "outputs": [],
   "source": [
    "train=np.genfromtxt(\"C:\\\\Users\\\\user\\\\Downloads\\\\train_extended.csv\",delimiter=\",\",skip_header=1)"
   ]
  },
  {
   "cell_type": "code",
   "execution_count": 148,
   "id": "770db67c",
   "metadata": {},
   "outputs": [
    {
     "data": {
      "text/plain": [
       "array([[ 1.575     ,  1.225     ,  0.375     , ...,  6.3219385 ,\n",
       "         9.63883   , 10.        ],\n",
       "       [ 1.2375    ,  1.        ,  0.375     , ...,  3.798833  ,\n",
       "         7.654365  , 19.        ],\n",
       "       [ 1.45      ,  1.1625    ,  0.4125    , ...,  7.01650125,\n",
       "         7.257472  , 11.        ],\n",
       "       ...,\n",
       "       [ 1.125     ,  0.9125    ,  0.2875    , ...,  1.984465  ,\n",
       "         3.118445  ,  7.        ],\n",
       "       [ 1.625     ,  1.275     ,  0.4125    , ...,  7.86698625,\n",
       "        10.489315  , 11.        ],\n",
       "       [ 1.5875    ,  1.25      ,  0.3875    , ...,  7.38504475,\n",
       "         8.788345  , 11.        ]])"
      ]
     },
     "execution_count": 148,
     "metadata": {},
     "output_type": "execute_result"
    }
   ],
   "source": [
    "train"
   ]
  },
  {
   "cell_type": "code",
   "execution_count": 146,
   "id": "d18971a8",
   "metadata": {},
   "outputs": [],
   "source": [
    "#1) what is max and min length"
   ]
  },
  {
   "cell_type": "code",
   "execution_count": 154,
   "id": "722dc155",
   "metadata": {},
   "outputs": [
    {
     "name": "stdout",
     "output_type": "stream",
     "text": [
      "max length:  7.58349125\n",
      "min length:  0.0\n"
     ]
    }
   ],
   "source": [
    "print(\"max length: \",np.max(train[:,0]))\n",
    "print(\"min length: \",np.min(train[:,0]))\n"
   ]
  },
  {
   "cell_type": "code",
   "execution_count": 155,
   "id": "0fb2e32d",
   "metadata": {},
   "outputs": [],
   "source": [
    "#2) find out the diff between max and min length"
   ]
  },
  {
   "cell_type": "code",
   "execution_count": 156,
   "id": "9c5e2b9b",
   "metadata": {},
   "outputs": [
    {
     "name": "stdout",
     "output_type": "stream",
     "text": [
      "Diff between max and min: 7.58349125\n"
     ]
    }
   ],
   "source": [
    "print(\"Diff between max and min:\",np.max(train[:,0])-np.min(train[:,0]))"
   ]
  },
  {
   "cell_type": "code",
   "execution_count": 157,
   "id": "58603d78",
   "metadata": {},
   "outputs": [],
   "source": [
    "# 3) find columnwise average"
   ]
  },
  {
   "cell_type": "code",
   "execution_count": 170,
   "id": "574f9936",
   "metadata": {},
   "outputs": [
    {
     "name": "stdout",
     "output_type": "stream",
     "text": [
      "first column avg : 1.3124480799562501\n",
      "second column avg : 1.020320357165\n",
      "third column avg : 0.34602787104999994\n",
      "fourth column avg : 23.123436312982403\n",
      "fifth column avg : 9.989370248049001\n",
      "sixth column avg : 4.993180956748749\n",
      "seventh column avg : 6.634229147607001\n",
      "eigth column avg : 9.950615\n"
     ]
    }
   ],
   "source": [
    "print(\"first column avg :\",np.mean(train[:,0]))\n",
    "print(\"second column avg :\",np.mean(train[:,1]))\n",
    "print(\"third column avg :\",np.mean(train[:,2]))\n",
    "print(\"fourth column avg :\",np.mean(train[:,3]))\n",
    "print(\"fifth column avg :\",np.mean(train[:,4]))\n",
    "print(\"sixth column avg :\",np.mean(train[:,5]))\n",
    "print(\"seventh column avg :\",np.mean(train[:,6]))\n",
    "print(\"eigth column avg :\",np.mean(train[:,7]))"
   ]
  },
  {
   "cell_type": "code",
   "execution_count": 175,
   "id": "ab54223e",
   "metadata": {},
   "outputs": [],
   "source": [
    "# 4) Find out all the age whose height is >0.4"
   ]
  },
  {
   "cell_type": "code",
   "execution_count": 183,
   "id": "2fde6618",
   "metadata": {},
   "outputs": [
    {
     "name": "stdout",
     "output_type": "stream",
     "text": [
      " persons age whose height is>0.4 [11. 14. 13. ... 11. 11. 11.]\n"
     ]
    }
   ],
   "source": [
    "print(\" persons age whose height is>0.4\", train[:,7][train[:,2]>0.4])"
   ]
  },
  {
   "cell_type": "code",
   "execution_count": 181,
   "id": "5bc31165",
   "metadata": {},
   "outputs": [],
   "source": [
    "#5) what is the avg height & weight of the persons whoes age is 10"
   ]
  },
  {
   "cell_type": "code",
   "execution_count": 197,
   "id": "4472dcb4",
   "metadata": {},
   "outputs": [],
   "source": [
    "weight=train[:,3][train[:,7]==10]\n",
    "height=train[:,2][train[:,7]==10]\n"
   ]
  },
  {
   "cell_type": "code",
   "execution_count": 198,
   "id": "94332c38",
   "metadata": {},
   "outputs": [
    {
     "name": "stdout",
     "output_type": "stream",
     "text": [
      "avg weight of a person whose age is 28.243308450511314\n",
      "avg height of a person whose age is 0.3833672856539947\n"
     ]
    }
   ],
   "source": [
    "print(\"avg weight of a person whose age is\",np.mean(weight))\n",
    "print(\"avg height of a person whose age is\",np.mean(height))\n"
   ]
  },
  {
   "cell_type": "code",
   "execution_count": 199,
   "id": "c874eb9e",
   "metadata": {},
   "outputs": [],
   "source": [
    "#6) what is the total shell weight"
   ]
  },
  {
   "cell_type": "code",
   "execution_count": 202,
   "id": "c8c34518",
   "metadata": {},
   "outputs": [
    {
     "name": "stdout",
     "output_type": "stream",
     "text": [
      "the total shell weight is  1326845.8295214002\n"
     ]
    }
   ],
   "source": [
    "print(\"the total shell weight is \",np.sum(train[:,-2]))"
   ]
  },
  {
   "cell_type": "code",
   "execution_count": 203,
   "id": "ebd4046b",
   "metadata": {},
   "outputs": [],
   "source": [
    "#7)  How many persons belongs to each and every unique age"
   ]
  },
  {
   "cell_type": "code",
   "execution_count": 211,
   "id": "e78638a3",
   "metadata": {},
   "outputs": [],
   "source": [
    "age,count=np.unique(train[:,-1], return_counts=True)\n"
   ]
  },
  {
   "cell_type": "code",
   "execution_count": 213,
   "id": "2c679e9e",
   "metadata": {},
   "outputs": [
    {
     "name": "stdout",
     "output_type": "stream",
     "text": [
      "each and every unique age [ 1.  2.  3.  4.  5.  6.  7.  8.  9. 10. 11. 12. 13. 14. 15. 16. 17. 18.\n",
      " 19. 20. 21. 22. 23. 24. 25. 26. 27. 29.]\n",
      "No. of people belongs to each and every unique age [   46    42   625  2787  5475 12450 18276 26818 32906 30803 23457 12717\n",
      " 10037  6352  4831  3191  2705  1953  1591  1206   721   296   352   110\n",
      "    51    46    99    57]\n"
     ]
    }
   ],
   "source": [
    "print(\"each and every unique age\",age)\n",
    "print(\"No. of people belongs to each and every unique age\",count)\n"
   ]
  },
  {
   "cell_type": "code",
   "execution_count": 214,
   "id": "ba0396d2",
   "metadata": {},
   "outputs": [],
   "source": [
    "# 8) what is the difference between shucked weight and viscua weight"
   ]
  },
  {
   "cell_type": "code",
   "execution_count": 217,
   "id": "6247802f",
   "metadata": {},
   "outputs": [],
   "source": [
    "s_w=np.sum(train[:,4])\n",
    "v_w=np.sum(train[:,5])"
   ]
  },
  {
   "cell_type": "code",
   "execution_count": 220,
   "id": "7786e526",
   "metadata": {},
   "outputs": [
    {
     "name": "stdout",
     "output_type": "stream",
     "text": [
      "The difference between s.w and v.w is: 999237.8582600503\n"
     ]
    }
   ],
   "source": [
    "print(\"The difference between s.w and v.w is:\", s_w-v_w)"
   ]
  },
  {
   "cell_type": "code",
   "execution_count": 221,
   "id": "b1d64a2d",
   "metadata": {},
   "outputs": [],
   "source": [
    "# 9) what is the average height of the persons whose age between is 14 & 19"
   ]
  },
  {
   "cell_type": "code",
   "execution_count": 230,
   "id": "60c8f4eb",
   "metadata": {},
   "outputs": [],
   "source": [
    "avg=train[:,2][(train[:,-1]>14) & (train[:,-1]<19)]"
   ]
  },
  {
   "cell_type": "code",
   "execution_count": 231,
   "id": "e501bd96",
   "metadata": {},
   "outputs": [
    {
     "data": {
      "text/plain": [
       "0.4190701892744479"
      ]
     },
     "execution_count": 231,
     "metadata": {},
     "output_type": "execute_result"
    }
   ],
   "source": [
    "np.mean(avg)"
   ]
  },
  {
   "cell_type": "code",
   "execution_count": 232,
   "id": "f1e2ba3d",
   "metadata": {},
   "outputs": [],
   "source": [
    "#10) what is the average weight if we include shucked weight,viscera weight and shell weight"
   ]
  },
  {
   "cell_type": "code",
   "execution_count": 236,
   "id": "766ff66d",
   "metadata": {},
   "outputs": [
    {
     "data": {
      "text/plain": [
       "4323356.07048095"
      ]
     },
     "execution_count": 236,
     "metadata": {},
     "output_type": "execute_result"
    }
   ],
   "source": [
    "np.mean(np.sum(train[:,4])+np.sum(train[:,5])+np.sum(train[:,-2]))"
   ]
  },
  {
   "cell_type": "code",
   "execution_count": null,
   "id": "49167305",
   "metadata": {},
   "outputs": [],
   "source": []
  }
 ],
 "metadata": {
  "kernelspec": {
   "display_name": "Python 3 (ipykernel)",
   "language": "python",
   "name": "python3"
  },
  "language_info": {
   "codemirror_mode": {
    "name": "ipython",
    "version": 3
   },
   "file_extension": ".py",
   "mimetype": "text/x-python",
   "name": "python",
   "nbconvert_exporter": "python",
   "pygments_lexer": "ipython3",
   "version": "3.10.9"
  }
 },
 "nbformat": 4,
 "nbformat_minor": 5
}
